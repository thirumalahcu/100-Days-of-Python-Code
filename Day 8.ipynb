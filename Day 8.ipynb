{
 "cells": [
  {
   "attachments": {},
   "cell_type": "markdown",
   "metadata": {},
   "source": [
    "# Functions with Inputs, Arguments & Parameters"
   ]
  },
  {
   "attachments": {},
   "cell_type": "markdown",
   "metadata": {},
   "source": [
    "- More functions\n",
    "\n",
    "        def my_function():\n",
    "            #DO this\n",
    "            #The do this\n",
    "            #Finally do this "
   ]
  },
  {
   "attachments": {},
   "cell_type": "markdown",
   "metadata": {},
   "source": [
    "    Create a function called greet()\n",
    "\n",
    "    Write 3 print statements inside the function \n",
    "\n",
    "    call the greet() function and run your code"
   ]
  },
  {
   "cell_type": "code",
   "execution_count": 3,
   "metadata": {},
   "outputs": [],
   "source": [
    "def greet():\n",
    "    print(\"Hello\")\n",
    "    print(\"How do you do\")\n",
    "    print(\"Isn't the weather nice today?\")"
   ]
  },
  {
   "cell_type": "code",
   "execution_count": 4,
   "metadata": {},
   "outputs": [
    {
     "name": "stdout",
     "output_type": "stream",
     "text": [
      "Hello\n",
      "How do you do\n",
      "Isn't the weather nice today?\n"
     ]
    }
   ],
   "source": [
    "greet()"
   ]
  },
  {
   "attachments": {},
   "cell_type": "markdown",
   "metadata": {},
   "source": [
    "Functions with Inputs"
   ]
  },
  {
   "attachments": {},
   "cell_type": "markdown",
   "metadata": {},
   "source": [
    "        def my_function(SOMETHING):\n",
    "            #DO this SOMETHING\n",
    "            #The do this\n",
    "            #Finally do this "
   ]
  },
  {
   "cell_type": "code",
   "execution_count": 9,
   "metadata": {},
   "outputs": [],
   "source": [
    "def greet_with_name(name):\n",
    "    print(f\"Hello {name} \")\n",
    "    print(f\"How do you do {name}\")"
   ]
  },
  {
   "cell_type": "code",
   "execution_count": 10,
   "metadata": {},
   "outputs": [
    {
     "name": "stdout",
     "output_type": "stream",
     "text": [
      "Hello joe \n",
      "How do you do joe\n"
     ]
    }
   ],
   "source": [
    "greet_with_name(\"joe\")"
   ]
  },
  {
   "attachments": {},
   "cell_type": "markdown",
   "metadata": {},
   "source": [
    "- name -> Parameter {name of the input}\n",
    "- joe -> Argument   {Value of the input}"
   ]
  },
  {
   "cell_type": "code",
   "execution_count": 11,
   "metadata": {},
   "outputs": [],
   "source": [
    "#Functions with more than 1 input\n",
    "\n",
    "def greet_with(name, place):\n",
    "    print(f\"how are you doing {name}\")\n",
    "    print(f\"are you at {place}\")"
   ]
  },
  {
   "cell_type": "code",
   "execution_count": 12,
   "metadata": {},
   "outputs": [
    {
     "name": "stdout",
     "output_type": "stream",
     "text": [
      "how are you doing joe\n",
      "are you at park\n"
     ]
    }
   ],
   "source": [
    "greet_with(\"joe\", \"park\")"
   ]
  },
  {
   "attachments": {},
   "cell_type": "markdown",
   "metadata": {},
   "source": [
    "- Do handle position challenge of parameters - Use keyword arguments"
   ]
  },
  {
   "cell_type": "code",
   "execution_count": 14,
   "metadata": {},
   "outputs": [],
   "source": [
    "\n",
    "def greet_with(name = \"joe\", place = \"park\"):\n",
    "    print(f\"how are you doing {name}\")\n",
    "    print(f\"are you at {place}\")"
   ]
  },
  {
   "cell_type": "code",
   "execution_count": 15,
   "metadata": {},
   "outputs": [
    {
     "name": "stdout",
     "output_type": "stream",
     "text": [
      "how are you doing Michel\n",
      "are you at station\n"
     ]
    }
   ],
   "source": [
    "greet_with(place = \"station\", name = \"Michel\")"
   ]
  },
  {
   "attachments": {},
   "cell_type": "markdown",
   "metadata": {},
   "source": [
    "- Area Calculation \n",
    "\n",
    "number of cans = (wall height * wall width ) / coverage per can"
   ]
  },
  {
   "cell_type": "code",
   "execution_count": 20,
   "metadata": {},
   "outputs": [
    {
     "name": "stdout",
     "output_type": "stream",
     "text": [
      "number of cans : 5.0 \n"
     ]
    }
   ],
   "source": [
    "#Write your code below this line 👇\n",
    "\n",
    "def paint_calc(height=2, width=4, cover=5):\n",
    "    num_cans = str(round((height * width)/cover,0))\n",
    "    print(f\"number of cans : {num_cans} \")\n",
    "\n",
    "\n",
    "\n",
    "\n",
    "#Write your code above this line 👆\n",
    "# Define a function called paint_calc() so that the code below works.   \n",
    "\n",
    "# 🚨 Don't change the code below 👇\n",
    "test_h = int(input(\"Height of wall: \"))\n",
    "test_w = int(input(\"Width of wall: \"))\n",
    "coverage = 5\n",
    "paint_calc(height=test_h, width=test_w, cover=coverage)\n",
    "\n",
    "\n"
   ]
  },
  {
   "attachments": {},
   "cell_type": "markdown",
   "metadata": {},
   "source": [
    "Exercise: Prime number checker"
   ]
  },
  {
   "attachments": {},
   "cell_type": "markdown",
   "metadata": {},
   "source": [
    "- input a number \n",
    "- check for prime number properties \n",
    "- print it is prime number or not"
   ]
  },
  {
   "cell_type": "code",
   "execution_count": 43,
   "metadata": {},
   "outputs": [
    {
     "name": "stdout",
     "output_type": "stream",
     "text": [
      "13 is a prime number\n"
     ]
    }
   ],
   "source": [
    "def prime_check(n=7):\n",
    "    \n",
    "    trigger = 0\n",
    "    \n",
    "    for i in range(2,n):\n",
    "        if n % i == 0:\n",
    "            trigger = 1     \n",
    "\n",
    "    \n",
    "    if trigger == 1:\n",
    "        print(f\"{str(n)} is not a prime number\")\n",
    "    else:\n",
    "        print(f\"{str(n)} is a prime number\")\n",
    "\n",
    "\n",
    "number = int(input(\"Enter the number\"))\n",
    "prime_check(n=number)\n"
   ]
  },
  {
   "attachments": {},
   "cell_type": "markdown",
   "metadata": {},
   "source": [
    "-----------------------------------------"
   ]
  },
  {
   "attachments": {},
   "cell_type": "markdown",
   "metadata": {},
   "source": [
    "Exercise - String Encode and Decode with shift of alphabet "
   ]
  },
  {
   "cell_type": "code",
   "execution_count": 78,
   "metadata": {},
   "outputs": [],
   "source": [
    "def encoding(name, shift):\n",
    "    encoded_list =[]\n",
    "    for letter in name:\n",
    "        for position in range(0,26):                  # alphet.index(letter) can be used \n",
    "            if letter == alphabet[position]:\n",
    "                let_pos = position\n",
    "                shift_pos = let_pos + shift \n",
    "                encoded_list.append(alphabet[shift_pos])   # encoded_string += alphabet[shift_pos] can be used \n",
    "    encoded_string = ''.join(encoded_list)\n",
    "    print(f\"Encoded String : {encoded_string}\")\n",
    "    \n",
    "    \n",
    "def decoding(name, shift):\n",
    "    decoded_list =[]\n",
    "    for letter in name:\n",
    "        for position in range(0,26):\n",
    "            if letter == alphabet[position]:\n",
    "                let_pos = position\n",
    "                shift_pos = let_pos - shift \n",
    "                decoded_list.append(alphabet[shift_pos])\n",
    "    decoded_string = ''.join(decoded_list)\n",
    "    print(f\"Decoded String : {decoded_string}\")"
   ]
  },
  {
   "cell_type": "code",
   "execution_count": 79,
   "metadata": {},
   "outputs": [],
   "source": [
    "alphabet = ['a', 'b', 'c', 'd', 'e', 'f', 'g', 'h', 'i', 'j', 'k', 'l', 'm', 'n', 'o', 'p', 'q', 'r', 's', 't', 'u', 'v', 'w', 'x', 'y', 'z','a', 'b', 'c', 'd', 'e', 'f', 'g', 'h', 'i', 'j', 'k', 'l', 'm', 'n', 'o', 'p', 'q', 'r', 's', 't', 'u', 'v', 'w', 'x', 'y', 'z']\n"
   ]
  },
  {
   "cell_type": "code",
   "execution_count": 80,
   "metadata": {},
   "outputs": [
    {
     "name": "stdout",
     "output_type": "stream",
     "text": [
      "Encoded String : drsbe\n"
     ]
    }
   ],
   "source": [
    "en_de = input(\" Do you want to 'encode' or 'decode' ? :\")\n",
    "name = input(\"Give the string : \")\n",
    "shift = int(input(\" Give the shift value :\"))\n",
    "\n",
    "if en_de == \"encode\":\n",
    "    encoding(name, shift)\n",
    "else:\n",
    "    decoding(name, shift)\n",
    "\n"
   ]
  },
  {
   "cell_type": "code",
   "execution_count": 81,
   "metadata": {},
   "outputs": [
    {
     "name": "stdout",
     "output_type": "stream",
     "text": [
      "Decoded String : thiru\n"
     ]
    }
   ],
   "source": [
    "en_de = input(\" Do you want to 'encode' or 'decode' ? :\")\n",
    "name = input(\"Give the string : \")\n",
    "shift = int(input(\" Give the shift value :\"))\n",
    "\n",
    "if en_de == \"encode\":\n",
    "    encoding(name, shift, alphabet)\n",
    "else:\n",
    "    decoding(name, shift, alphabet)\n"
   ]
  },
  {
   "cell_type": "code",
   "execution_count": 84,
   "metadata": {},
   "outputs": [
    {
     "name": "stdout",
     "output_type": "stream",
     "text": [
      "Encoded String : drsbe\n",
      "Decoded String : thiru\n"
     ]
    }
   ],
   "source": [
    "should_continue = \"Y\" \n",
    "\n",
    "while should_continue == \"Y\":\n",
    "    en_de = input(\" Do you want to 'encode' or 'decode' ? :\")\n",
    "    name = input(\"Give the string : \")\n",
    "    shift = int(input(\" Give the shift value :\"))\n",
    "\n",
    "    if en_de == \"encode\":\n",
    "        encoding(name, shift, alphabet)\n",
    "    else:\n",
    "        decoding(name, shift, alphabet)\n",
    "    \n",
    "    should_continue = input(\" what to continue ? Y/N : \")\n"
   ]
  }
 ],
 "metadata": {
  "kernelspec": {
   "display_name": "Python 3",
   "language": "python",
   "name": "python3"
  },
  "language_info": {
   "codemirror_mode": {
    "name": "ipython",
    "version": 3
   },
   "file_extension": ".py",
   "mimetype": "text/x-python",
   "name": "python",
   "nbconvert_exporter": "python",
   "pygments_lexer": "ipython3",
   "version": "3.10.10"
  },
  "orig_nbformat": 4,
  "vscode": {
   "interpreter": {
    "hash": "8bf0d51478355d2251941b3b98616086516a0eddd7c72ee47a3371765770709a"
   }
  }
 },
 "nbformat": 4,
 "nbformat_minor": 2
}
