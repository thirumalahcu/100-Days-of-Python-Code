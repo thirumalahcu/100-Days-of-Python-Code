{
 "cells": [
  {
   "attachments": {},
   "cell_type": "markdown",
   "metadata": {},
   "source": [
    "# Python functions & While loop"
   ]
  },
  {
   "cell_type": "code",
   "execution_count": 1,
   "metadata": {},
   "outputs": [
    {
     "name": "stdout",
     "output_type": "stream",
     "text": [
      "Hello\n",
      "5\n"
     ]
    }
   ],
   "source": [
    "# Examples of python functions \n",
    "\n",
    "print (\"Hello\")\n",
    "num_char = len(\"Hello\")\n",
    "print (num_char)"
   ]
  },
  {
   "attachments": {},
   "cell_type": "markdown",
   "metadata": {},
   "source": [
    "- How to create a our own function\n",
    "\n",
    "Example template:\n",
    "\n",
    "        def test_function():\n",
    "           # Do this\n",
    "           # The do this\n",
    "           # Finally do this"
   ]
  },
  {
   "cell_type": "code",
   "execution_count": 2,
   "metadata": {},
   "outputs": [],
   "source": [
    "def my_function():\n",
    "    print(\"Hello\")\n",
    "    print(\"Bye\")"
   ]
  },
  {
   "cell_type": "code",
   "execution_count": 3,
   "metadata": {},
   "outputs": [
    {
     "name": "stdout",
     "output_type": "stream",
     "text": [
      "Hello\n",
      "Bye\n"
     ]
    }
   ],
   "source": [
    "# To execute or call the funtion \n",
    "\n",
    "my_function()"
   ]
  },
  {
   "attachments": {},
   "cell_type": "markdown",
   "metadata": {},
   "source": [
    "- indentation\n",
    "\n",
    "one tab space or four spaces indicates the line belongs to the above function \n",
    "\n",
    "        def my_function():\n",
    "            print(\"Hello\")\n",
    "        print(\"Bye\")"
   ]
  },
  {
   "attachments": {},
   "cell_type": "markdown",
   "metadata": {},
   "source": [
    "- while loops - the loop keep running until the particular condition is true \n",
    "\n",
    "        while something_is_true:\n",
    "            # Do something repeatedly "
   ]
  },
  {
   "cell_type": "code",
   "execution_count": 5,
   "metadata": {},
   "outputs": [
    {
     "name": "stdout",
     "output_type": "stream",
     "text": [
      "Hello 6\n",
      "Hello 5\n",
      "Hello 4\n",
      "Hello 3\n",
      "Hello 2\n",
      "Hello 1\n"
     ]
    }
   ],
   "source": [
    "count = 6\n",
    "\n",
    "while count > 0:\n",
    "    print(\"Hello \" + str(count))\n",
    "    count -= 1"
   ]
  }
 ],
 "metadata": {
  "kernelspec": {
   "display_name": "Python 3",
   "language": "python",
   "name": "python3"
  },
  "language_info": {
   "codemirror_mode": {
    "name": "ipython",
    "version": 3
   },
   "file_extension": ".py",
   "mimetype": "text/x-python",
   "name": "python",
   "nbconvert_exporter": "python",
   "pygments_lexer": "ipython3",
   "version": "3.10.10"
  },
  "orig_nbformat": 4,
  "vscode": {
   "interpreter": {
    "hash": "8bf0d51478355d2251941b3b98616086516a0eddd7c72ee47a3371765770709a"
   }
  }
 },
 "nbformat": 4,
 "nbformat_minor": 2
}
