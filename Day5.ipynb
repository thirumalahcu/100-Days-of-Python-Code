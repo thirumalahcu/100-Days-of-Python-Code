{
 "cells": [
  {
   "attachments": {},
   "cell_type": "markdown",
   "metadata": {},
   "source": [
    "# Python Loops"
   ]
  },
  {
   "attachments": {},
   "cell_type": "markdown",
   "metadata": {},
   "source": [
    "- For Loop\n",
    "\n",
    "        for item in list_of_items:\n",
    "            # Do something to each item"
   ]
  },
  {
   "cell_type": "code",
   "execution_count": 2,
   "metadata": {},
   "outputs": [
    {
     "name": "stdout",
     "output_type": "stream",
     "text": [
      "Apple\n",
      "Apple Pie\n",
      "Peach\n",
      "Peach Pie\n",
      "Pear\n",
      "Pear Pie\n"
     ]
    }
   ],
   "source": [
    "fruits = [\"Apple\", \"Peach\", \"Pear\"]\n",
    "\n",
    "for fruit in fruits:\n",
    "    print(fruit)\n",
    "    print(fruit + \" Pie\")"
   ]
  },
  {
   "attachments": {},
   "cell_type": "markdown",
   "metadata": {},
   "source": [
    "Exercise - Average height\n",
    "\n",
    "\n",
    "Write a program that calculates the average student height from a list of heights"
   ]
  },
  {
   "cell_type": "code",
   "execution_count": 6,
   "metadata": {},
   "outputs": [
    {
     "name": "stdout",
     "output_type": "stream",
     "text": [
      "The average height of student: 164.0 \n"
     ]
    }
   ],
   "source": [
    "heights = [180, 124, 165, 173, 189, 169, 146]\n",
    "\n",
    "total_height = 0\n",
    "\n",
    "for height in heights:\n",
    "    total_height += height\n",
    "\n",
    "Avg_height = round(total_height / len(heights),0)\n",
    "\n",
    "print (f\"The average height of student: {Avg_height} \") "
   ]
  },
  {
   "attachments": {},
   "cell_type": "markdown",
   "metadata": {},
   "source": [
    "Exercise - Heighest Score \n",
    "\n",
    "Write a program that calculates the heighest sore from a list of scores\n",
    "\n",
    "Note: don't use max function "
   ]
  },
  {
   "cell_type": "code",
   "execution_count": 7,
   "metadata": {},
   "outputs": [],
   "source": [
    "student_scores = [78, 65, 89, 86, 55, 91, 64, 89]"
   ]
  },
  {
   "cell_type": "code",
   "execution_count": 11,
   "metadata": {},
   "outputs": [
    {
     "name": "stdout",
     "output_type": "stream",
     "text": [
      "Max score : 91\n"
     ]
    }
   ],
   "source": [
    "score = 0\n",
    "\n",
    "for c_score in student_scores:\n",
    "    if score < c_score:\n",
    "        score = c_score\n",
    "\n",
    "print(\"Max score : \" + str(score))"
   ]
  },
  {
   "attachments": {},
   "cell_type": "markdown",
   "metadata": {},
   "source": [
    "range() function \n",
    "\n",
    "        for number in range(a, b):\n",
    "            print(number)\n",
    "\n",
    "in range() the last number (b) is not included"
   ]
  },
  {
   "cell_type": "code",
   "execution_count": 12,
   "metadata": {},
   "outputs": [
    {
     "name": "stdout",
     "output_type": "stream",
     "text": [
      "1\n",
      "2\n",
      "3\n",
      "4\n",
      "5\n",
      "6\n",
      "7\n",
      "8\n",
      "9\n"
     ]
    }
   ],
   "source": [
    "for number in range(1,10):\n",
    "    print(str(number))"
   ]
  },
  {
   "cell_type": "code",
   "execution_count": 14,
   "metadata": {},
   "outputs": [
    {
     "name": "stdout",
     "output_type": "stream",
     "text": [
      "1\n",
      "3\n",
      "5\n",
      "7\n",
      "9\n"
     ]
    }
   ],
   "source": [
    "for number in range(1,10, 2):  # step by 2\n",
    "    print(str(number))"
   ]
  },
  {
   "cell_type": "code",
   "execution_count": 15,
   "metadata": {},
   "outputs": [
    {
     "name": "stdout",
     "output_type": "stream",
     "text": [
      "5050\n"
     ]
    }
   ],
   "source": [
    "total = 0\n",
    "for number in range(1, 101):\n",
    "    total += number\n",
    "\n",
    "print (str(total))"
   ]
  },
  {
   "cell_type": "code",
   "execution_count": 18,
   "metadata": {},
   "outputs": [
    {
     "name": "stdout",
     "output_type": "stream",
     "text": [
      "2550\n"
     ]
    }
   ],
   "source": [
    "# Exercise - Adding even numbers from 1 to 100 \n",
    "\n",
    "total = 0\n",
    "for number in range(0, 101, 2):\n",
    "    total += number\n",
    "\n",
    "print (str(total))"
   ]
  },
  {
   "attachments": {},
   "cell_type": "markdown",
   "metadata": {},
   "source": [
    "Exercise - Write a program that automatically prints the solution of the FizzBuzz\n",
    "\n",
    "- your program should print each number from 1 to 100 in turn\n",
    "- when the number is divisible by 3 then instead of printing the number, it should print \"Fizz\"."
   ]
  },
  {
   "cell_type": "code",
   "execution_count": 19,
   "metadata": {},
   "outputs": [
    {
     "name": "stdout",
     "output_type": "stream",
     "text": [
      "1\n",
      "2\n",
      "Fizz\n",
      "4\n",
      "5\n",
      "Fizz\n",
      "7\n",
      "8\n",
      "Fizz\n",
      "10\n"
     ]
    }
   ],
   "source": [
    "for number in range(1, 11):\n",
    "    if number%3 == 0:\n",
    "        print(\"Fizz\")\n",
    "    else:\n",
    "        print(str(number))"
   ]
  },
  {
   "attachments": {},
   "cell_type": "markdown",
   "metadata": {},
   "source": [
    "Exercise -\n",
    "\n",
    "\n",
    "        #Password Generator Project\n",
    "        import random\n",
    "        letters = ['a', 'b', 'c', 'd', 'e', 'f', 'g', 'h', 'i', 'j', 'k', 'l', 'm', 'n', 'o', 'p', 'q', 'r', 's', 't', 'u', 'v', 'w', 'x', 'y', 'z', 'A', 'B', 'C', 'D', 'E', 'F', 'G', 'H', 'I', 'J', 'K', 'L', 'M', 'N', 'O', 'P', 'Q', 'R', 'S', 'T', 'U', 'V', 'W', 'X', 'Y', 'Z']\n",
    "        numbers = ['0', '1', '2', '3', '4', '5', '6', '7', '8', '9']\n",
    "        symbols = ['!', '#', '$', '%', '&', '(', ')', '*', '+']\n",
    "\n",
    "        print(\"Welcome to the PyPassword Generator!\")\n",
    "        nr_letters= int(input(\"How many letters would you like in your password?\\n\")) \n",
    "        nr_symbols = int(input(f\"How many symbols would you like?\\n\"))\n",
    "        nr_numbers = int(input(f\"How many numbers would you like?\\n\"))\n",
    "\n",
    "        #Eazy Level - Order not randomised:\n",
    "        #e.g. 4 letter, 2 symbol, 2 number = JduE&!91\n",
    "\n",
    "\n",
    "        #Hard Level - Order of characters randomised:\n",
    "        #e.g. 4 letter, 2 symbol, 2 number = g^2jk8&P"
   ]
  },
  {
   "cell_type": "code",
   "execution_count": 4,
   "metadata": {},
   "outputs": [],
   "source": [
    "import random\n",
    "letters = ['a', 'b', 'c', 'd', 'e', 'f', 'g', 'h', 'i', 'j', 'k', 'l', 'm', 'n', 'o', 'p', 'q', 'r', 's', 't', 'u', 'v', 'w', 'x', 'y', 'z', 'A', 'B', 'C', 'D', 'E', 'F', 'G', 'H', 'I', 'J', 'K', 'L', 'M', 'N', 'O', 'P', 'Q', 'R', 'S', 'T', 'U', 'V', 'W', 'X', 'Y', 'Z']\n",
    "numbers = ['0', '1', '2', '3', '4', '5', '6', '7', '8', '9']\n",
    "symbols = ['!', '#', '$', '%', '&', '(', ')', '*', '+']"
   ]
  },
  {
   "cell_type": "code",
   "execution_count": 18,
   "metadata": {},
   "outputs": [
    {
     "name": "stdout",
     "output_type": "stream",
     "text": [
      "Welcome to the PyPassword Generator!\n",
      "Password : wig14)!(\n",
      "Ramdomised Password : )(14giw!\n"
     ]
    }
   ],
   "source": [
    "print(\"Welcome to the PyPassword Generator!\")\n",
    "nr_letters= int(input(\"How many letters would you like in your password?\\n\")) \n",
    "nr_symbols = int(input(f\"How many symbols would you like?\\n\"))\n",
    "nr_numbers = int(input(f\"How many numbers would you like?\\n\"))\n",
    "\n",
    "gen_letters =\"\"\n",
    "gen_symbols =\"\"\n",
    "gen_numbers =\"\"\n",
    "\n",
    "for loop in range(0, nr_letters):\n",
    "    gen_letters += random.choice(letters)\n",
    "\n",
    "for loop in range(0, nr_symbols):\n",
    "    gen_numbers += random.choice(numbers)\n",
    "\n",
    "for loop in range(0, nr_numbers):\n",
    "    gen_symbols += random.choice(symbols) \n",
    "    \n",
    "\n",
    "rand_password = gen_letters + gen_numbers + gen_symbols\n",
    "\n",
    "\n",
    "print(\"Password : \" + rand_password)\n",
    "\n",
    "# For randomized, we can use random.shuffle on a list\n",
    "\n",
    "rand_pw_list = []\n",
    "\n",
    "for char in range(0,len(rand_password)):\n",
    "    rand_pw_list.append(rand_password[char])\n",
    "\n",
    "rand_pw_list_shuffle = rand_pw_list\n",
    "\n",
    "random.shuffle(rand_pw_list_shuffle)\n",
    "\n",
    "rand_shuffle_password = \"\"\n",
    "\n",
    "for lett in rand_pw_list_shuffle:\n",
    "    rand_shuffle_password += lett\n",
    "    \n",
    "print(\"Ramdomised Password : \" + rand_shuffle_password)\n",
    "\n"
   ]
  }
 ],
 "metadata": {
  "kernelspec": {
   "display_name": "Python 3",
   "language": "python",
   "name": "python3"
  },
  "language_info": {
   "codemirror_mode": {
    "name": "ipython",
    "version": 3
   },
   "file_extension": ".py",
   "mimetype": "text/x-python",
   "name": "python",
   "nbconvert_exporter": "python",
   "pygments_lexer": "ipython3",
   "version": "3.10.10"
  },
  "orig_nbformat": 4,
  "vscode": {
   "interpreter": {
    "hash": "8bf0d51478355d2251941b3b98616086516a0eddd7c72ee47a3371765770709a"
   }
  }
 },
 "nbformat": 4,
 "nbformat_minor": 2
}
