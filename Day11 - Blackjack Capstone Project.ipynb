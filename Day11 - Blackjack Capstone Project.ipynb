{
 "cells": [
  {
   "attachments": {},
   "cell_type": "markdown",
   "metadata": {},
   "source": [
    "        ############### Blackjack Project #####################\n",
    "\n",
    "        ############### Our Blackjack House Rules #####################\n",
    "\n",
    "        ## The deck is unlimited in size. \n",
    "        ## There are no jokers. \n",
    "        ## The Jack/Queen/King all count as 10.\n",
    "        ## The the Ace can count as 11 or 1.\n",
    "        ## Use the following list as the deck of cards:\n",
    "        ## cards = [11, 2, 3, 4, 5, 6, 7, 8, 9, 10, 10, 10, 10]\n",
    "        ## The cards in the list have equal probability of being drawn.\n",
    "        ## Cards are not removed from the deck as they are drawn.\n",
    "\n",
    "        ##################### Hints #####################\n",
    "\n",
    "        #Hint 1: Go to this website and try out the Blackjack game: \n",
    "        #   https://games.washingtonpost.com/games/blackjack/\n",
    "        #Then try out the completed Blackjack project here: \n",
    "        #   http://blackjack-final.appbrewery.repl.run"
   ]
  },
  {
   "cell_type": "code",
   "execution_count": 31,
   "metadata": {},
   "outputs": [
    {
     "name": "stdout",
     "output_type": "stream",
     "text": [
      "8\n",
      "6\n"
     ]
    },
    {
     "ename": "",
     "evalue": "",
     "output_type": "error",
     "traceback": [
      "\u001b[1;31mThe Kernel crashed while executing code in the the current cell or a previous cell. Please review the code in the cell(s) to identify a possible cause of the failure. Click <a href='https://aka.ms/vscodeJupyterKernelCrash'>here</a> for more info. View Jupyter <a href='command:jupyter.viewOutput'>log</a> for further details."
     ]
    }
   ],
   "source": [
    "import random\n",
    "\n",
    "print(random.randrange(1,10))\n",
    "\n",
    "cards =[11,2,3,4,5,6,7,8,9,10,10,10,10]\n",
    "\n",
    "print(random.choice(cards))\n",
    "\n"
   ]
  },
  {
   "cell_type": "code",
   "execution_count": 11,
   "metadata": {},
   "outputs": [
    {
     "name": "stdout",
     "output_type": "stream",
     "text": [
      "3\n"
     ]
    }
   ],
   "source": [
    "a = [1,2]\n",
    "\n",
    "a_sum =0\n",
    "\n",
    "for i in range(0,len(a)):\n",
    "    a_sum += a[i]\n",
    "\n",
    "print (a_sum)"
   ]
  },
  {
   "cell_type": "code",
   "execution_count": null,
   "metadata": {},
   "outputs": [
    {
     "name": "stdout",
     "output_type": "stream",
     "text": [
      "Your cards: [5, 4], current score: 9\n",
      "Computer's first card: 4\n",
      "Let's continue then\n",
      "Your cards: [5, 4, 7, 4], current score: 9\n",
      "Computer's first card: 4\n"
     ]
    }
   ],
   "source": [
    "import random\n",
    "\n",
    "def deal_card():\n",
    "  \"\"\"Returns a random card from the deck.\"\"\"\n",
    "  cards = [11, 2, 3, 4, 5, 6, 7, 8, 9, 10, 10, 10, 10]\n",
    "  card = random.choice(cards)\n",
    "  return card\n",
    "\n",
    "# Function calculate_score() that takes a List of cards as input and returns the score. \n",
    "\n",
    "def calculate_score(cards):\n",
    "  \"\"\"Take a list of cards and return the score calculated from the cards\"\"\"\n",
    "  if sum(cards) == 21 and len(cards) == 2:\n",
    "    return 0\n",
    "\n",
    "  if 11 in cards and sum(cards) > 21:\n",
    "    cards.remove(11)\n",
    "    cards.append(1)\n",
    "  return sum(cards)\n",
    "\n",
    "def compare(user_score, computer_score):\n",
    "  if user_score > 21 and computer_score > 21:\n",
    "    return \"You went over. You lose \"\n",
    "\n",
    "\n",
    "  if user_score == computer_score:\n",
    "    return \"Draw\"\n",
    "  elif computer_score == 0:\n",
    "    return \"Lose, opponent has Blackjack \"\n",
    "  elif user_score == 0:\n",
    "    return \"Win with a Blackjack \"\n",
    "  elif user_score > 21:\n",
    "    return \"You went over. You lose \"\n",
    "  elif computer_score > 21:\n",
    "    return \"Opponent went over. You win \"\n",
    "  elif user_score > computer_score:\n",
    "    return \"You win \"\n",
    "  else:\n",
    "    return \"You lose \"\n",
    "\n",
    "def play_game():\n",
    "\n",
    "  user_cards = []\n",
    "  computer_cards = []\n",
    "  is_game_over = False\n",
    "\n",
    "  for _ in range(2):\n",
    "    user_cards.append(deal_card())\n",
    "    computer_cards.append(deal_card())\n",
    "\n",
    "\n",
    "  while not is_game_over:\n",
    "\n",
    "    user_score = calculate_score(user_cards)\n",
    "    computer_score = calculate_score(computer_cards)\n",
    "    print(f\"   Your cards: {user_cards}, current score: {user_score}\")\n",
    "    print(f\"   Computer's first card: {computer_cards[0]}\")\n",
    "\n",
    "    if user_score == 0 or computer_score == 0 or user_score > 21:\n",
    "      is_game_over = True\n",
    "    else:\n",
    "      user_should_deal = input(\"Type 'y' to get another card, type 'n' to pass: \")\n",
    "      if user_should_deal == \"y\":\n",
    "        user_cards.append(deal_card())\n",
    "      else:\n",
    "        is_game_over = True\n",
    "\n",
    "  while computer_score != 0 and computer_score < 17:\n",
    "    computer_cards.append(deal_card())\n",
    "    computer_score = calculate_score(computer_cards)\n",
    "\n",
    "  print(f\"   Your final hand: {user_cards}, final score: {user_score}\")\n",
    "  print(f\"   Computer's final hand: {computer_cards}, final score: {computer_score}\")\n",
    "  print(compare(user_score, computer_score))\n",
    "\n",
    "while input(\"Do you want to play a game of Blackjack? Type 'y' or 'n': \") == \"y\":\n",
    "  play_game()"
   ]
  }
 ],
 "metadata": {
  "kernelspec": {
   "display_name": "Python 3",
   "language": "python",
   "name": "python3"
  },
  "language_info": {
   "codemirror_mode": {
    "name": "ipython",
    "version": 3
   },
   "file_extension": ".py",
   "mimetype": "text/x-python",
   "name": "python",
   "nbconvert_exporter": "python",
   "pygments_lexer": "ipython3",
   "version": "3.10.10"
  },
  "orig_nbformat": 4,
  "vscode": {
   "interpreter": {
    "hash": "8bf0d51478355d2251941b3b98616086516a0eddd7c72ee47a3371765770709a"
   }
  }
 },
 "nbformat": 4,
 "nbformat_minor": 2
}
