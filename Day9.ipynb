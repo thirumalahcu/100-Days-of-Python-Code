{
 "cells": [
  {
   "attachments": {},
   "cell_type": "markdown",
   "metadata": {},
   "source": [
    "# Python Dictionaries and Nesting"
   ]
  },
  {
   "attachments": {},
   "cell_type": "markdown",
   "metadata": {},
   "source": [
    "Dictionaries - {key1 : Value1, key2: Value2}"
   ]
  },
  {
   "cell_type": "code",
   "execution_count": 1,
   "metadata": {},
   "outputs": [],
   "source": [
    "programming_dictionary = {\"Bug\": \"An error in a program that prevents the program from running as expected.\",\n",
    "                          \"Function\": \"A Piece of code that you can easily call over and ove again\",\n",
    "                          \"Loop\": \"The action of doing something over and over again\"\n",
    "                          }"
   ]
  },
  {
   "cell_type": "code",
   "execution_count": 2,
   "metadata": {},
   "outputs": [
    {
     "data": {
      "text/plain": [
       "'An error in a program that prevents the program from running as expected.'"
      ]
     },
     "execution_count": 2,
     "metadata": {},
     "output_type": "execute_result"
    }
   ],
   "source": [
    "programming_dictionary[\"Bug\"]"
   ]
  },
  {
   "cell_type": "code",
   "execution_count": 3,
   "metadata": {},
   "outputs": [
    {
     "name": "stdout",
     "output_type": "stream",
     "text": [
      "An error in a program that prevents the program from running as expected.\n"
     ]
    }
   ],
   "source": [
    "print(programming_dictionary[\"Bug\"])"
   ]
  },
  {
   "cell_type": "code",
   "execution_count": 4,
   "metadata": {},
   "outputs": [],
   "source": [
    "# Adding new items to dictionary \n",
    "\n",
    "programming_dictionary[\"test\"] = \"New item added to the dictionary\""
   ]
  },
  {
   "cell_type": "code",
   "execution_count": 5,
   "metadata": {},
   "outputs": [
    {
     "data": {
      "text/plain": [
       "{'Bug': 'An error in a program that prevents the program from running as expected.',\n",
       " 'Function': 'A Piece of code that you can easily call over and ove again',\n",
       " 'Loop': 'The action of doing something over and over again',\n",
       " 'test': 'New item added to the dictionary'}"
      ]
     },
     "execution_count": 5,
     "metadata": {},
     "output_type": "execute_result"
    }
   ],
   "source": [
    "programming_dictionary"
   ]
  },
  {
   "cell_type": "code",
   "execution_count": 7,
   "metadata": {},
   "outputs": [],
   "source": [
    "# Creating an empty dictionary \n",
    "\n",
    "empty_dictionary = {}\n",
    "\n",
    "# Wiping an existing entire dictionary\n",
    "\n",
    "existing_dictionary = {}\n"
   ]
  },
  {
   "cell_type": "code",
   "execution_count": 8,
   "metadata": {},
   "outputs": [],
   "source": [
    "# Editing an existing item in a dictionary \n",
    "\n",
    "programming_dictionary[\"Bug\"] = \" Changed the text\""
   ]
  },
  {
   "cell_type": "code",
   "execution_count": 9,
   "metadata": {},
   "outputs": [
    {
     "name": "stdout",
     "output_type": "stream",
     "text": [
      " Changed the text\n"
     ]
    }
   ],
   "source": [
    "print(programming_dictionary[\"Bug\"])"
   ]
  },
  {
   "cell_type": "code",
   "execution_count": 11,
   "metadata": {},
   "outputs": [
    {
     "name": "stdout",
     "output_type": "stream",
     "text": [
      "Bug\n",
      " Changed the text\n",
      "Function\n",
      "A Piece of code that you can easily call over and ove again\n",
      "Loop\n",
      "The action of doing something over and over again\n",
      "test\n",
      "New item added to the dictionary\n"
     ]
    }
   ],
   "source": [
    "# Looping through a dictionary \n",
    "\n",
    "for key in programming_dictionary:\n",
    "    print(key)\n",
    "    print(programming_dictionary[key])"
   ]
  },
  {
   "attachments": {},
   "cell_type": "markdown",
   "metadata": {},
   "source": [
    "----- \n",
    "Grading Program exercise\n",
    "-----"
   ]
  },
  {
   "attachments": {},
   "cell_type": "markdown",
   "metadata": {},
   "source": [
    "          student_scores = {\n",
    "            \"Harry\": 81,\n",
    "            \"Ron\": 78,\n",
    "            \"Hermione\": 99, \n",
    "            \"Draco\": 74,\n",
    "            \"Neville\": 62,\n",
    "          }\n",
    "          # 🚨 Don't change the code above 👆\n",
    "\n",
    "          #TODO-1: Create an empty dictionary called student_grades.\n",
    "\n",
    "\n",
    "          #TODO-2: Write your code below to add the grades to student_grades.👇\n",
    "\n",
    "              Grading criteria:\n",
    "\n",
    "              Scores 91 - 100: Grade = \"Outstanding\"\n",
    "              Scores 81 - 90: Grade = \"Exceeds Expectations\"\n",
    "              Scores 71 - 80: Grade = \"Acceptable\"\n",
    "              Score 70 or lower: Grade = \"Fail\"\n",
    "\n",
    "          # 🚨 Don't change the code below 👇\n",
    "          print(student_grades)"
   ]
  },
  {
   "cell_type": "code",
   "execution_count": 12,
   "metadata": {},
   "outputs": [
    {
     "name": "stdout",
     "output_type": "stream",
     "text": [
      "{'Harry': 'Exceeds Expectations', 'Ron': 'Acceptable', 'Hermione': 'Outstanding', 'Draco': 'Acceptable', 'Neville': 'Fail'}\n"
     ]
    }
   ],
   "source": [
    "student_scores = {\n",
    "  \"Harry\": 81,\n",
    "  \"Ron\": 78,\n",
    "  \"Hermione\": 99, \n",
    "  \"Draco\": 74,\n",
    "  \"Neville\": 62,\n",
    "}\n",
    "\n",
    "#TODO-1: Create an empty dictionary called student_grades.\n",
    "\n",
    "student_grades ={}\n",
    "\n",
    "#TODO-2: Write your code below to add the grades to student_grades.👇\n",
    "\n",
    "for key in student_scores:\n",
    "    if student_scores[key] >= 91:\n",
    "       student_grades[key] = \"Outstanding\"\n",
    "    elif student_scores[key] >= 81 and student_scores[key] <= 90:\n",
    "       student_grades[key] = \"Exceeds Expectations\"\n",
    "    elif student_scores[key] >= 71 and student_scores[key] <= 80:\n",
    "       student_grades[key] = \"Acceptable\"\n",
    "    else:\n",
    "        student_grades[key] = \"Fail\"\n",
    "\n",
    "print(student_grades)\n"
   ]
  },
  {
   "attachments": {},
   "cell_type": "markdown",
   "metadata": {},
   "source": [
    "# Nesting\n",
    "\n",
    "    {\n",
    "        key1: Value,\n",
    "        key2: [List],\n",
    "        key3: {Dist}\n",
    "    }\n"
   ]
  },
  {
   "cell_type": "code",
   "execution_count": 13,
   "metadata": {},
   "outputs": [],
   "source": [
    "#Nesting \n",
    "capitals = {\n",
    "  \"France\": \"Paris\",\n",
    "  \"Germany\": \"Berlin\",\n",
    "}"
   ]
  },
  {
   "cell_type": "code",
   "execution_count": 14,
   "metadata": {},
   "outputs": [],
   "source": [
    "#Nesting a List in a Dictionary\n",
    "\n",
    "travel_log = {\n",
    "  \"France\": [\"Paris\", \"Lille\", \"Dijon\"],\n",
    "  \"Germany\": [\"Berlin\", \"Hamburg\", \"Stuttgart\"],\n",
    "}\n",
    "\n",
    "#Nesting Dictionary in a Dictionary\n",
    "\n",
    "travel_log = {\n",
    "  \"France\": {\"cities_visited\": [\"Paris\", \"Lille\", \"Dijon\"], \"total_visits\": 12},\n",
    "  \"Germany\": {\"cities_visited\": [\"Berlin\", \"Hamburg\", \"Stuttgart\"], \"total_visits\": 5},\n",
    "}\n",
    "\n",
    "#Nesting Dictionaries in Lists\n",
    "\n",
    "travel_log = [\n",
    "{\n",
    "  \"country\": \"France\", \n",
    "  \"cities_visited\": [\"Paris\", \"Lille\", \"Dijon\"], \n",
    "  \"total_visits\": 12,\n",
    "},\n",
    "{\n",
    "  \"country\": \"Germany\",\n",
    "  \"cities_visited\": [\"Berlin\", \"Hamburg\", \"Stuttgart\"],\n",
    "  \"total_visits\": 5,\n",
    "},\n",
    "]"
   ]
  },
  {
   "cell_type": "code",
   "execution_count": 15,
   "metadata": {},
   "outputs": [
    {
     "name": "stdout",
     "output_type": "stream",
     "text": [
      "[{'country': 'France', 'cities_visited': ['Paris', 'Lille', 'Dijon'], 'total_visits': 12}, {'country': 'Germany', 'cities_visited': ['Berlin', 'Hamburg', 'Stuttgart'], 'total_visits': 5}]\n"
     ]
    }
   ],
   "source": [
    "print(travel_log)"
   ]
  },
  {
   "attachments": {},
   "cell_type": "markdown",
   "metadata": {},
   "source": [
    "----------------------"
   ]
  },
  {
   "attachments": {},
   "cell_type": "markdown",
   "metadata": {},
   "source": [
    "# Travel Log Exercise\n",
    "\n",
    "        You are going to write a program that adds to a travel_log. You can see a travel_log which is a List that contains 2 Dictionaries.\n",
    "\n",
    "        Write a function that will work with the following line of code to add the entry for Russia to the travel_log.\n",
    "\n",
    "        add_new_country(\"Russia\", 2, [\"Moscow\", \"Saint Petersburg\"])\n",
    "        You've visited Russia 2 times.\n",
    "        You've been to Moscow and Saint Petersburg.\n",
    "\n",
    "\n",
    "        travel_log = [\n",
    "        {\n",
    "        \"country\": \"France\",\n",
    "        \"visits\": 12,\n",
    "        \"cities\": [\"Paris\", \"Lille\", \"Dijon\"]\n",
    "        },\n",
    "        {\n",
    "        \"country\": \"Germany\",\n",
    "        \"visits\": 5,\n",
    "        \"cities\": [\"Berlin\", \"Hamburg\", \"Stuttgart\"]\n",
    "        },\n",
    "        ]\n",
    "        #🚨 Do NOT change the code above\n",
    "\n",
    "        #TODO: Write the function that will allow new countries to be added to the travel_log. 👇\n",
    "\n",
    "        #🚨 Do not change the code below\n",
    "        add_new_country(\"Russia\", 2, [\"Moscow\", \"Saint Petersburg\"])\n",
    "        print(travel_log)"
   ]
  },
  {
   "cell_type": "code",
   "execution_count": 16,
   "metadata": {},
   "outputs": [
    {
     "name": "stdout",
     "output_type": "stream",
     "text": [
      "[{'country': 'France', 'visits': 12, 'cities': ['Paris', 'Lille', 'Dijon']}, {'country': 'Germany', 'visits': 5, 'cities': ['Berlin', 'Hamburg', 'Stuttgart']}, {'country': 'Russia', 'visits': 2, 'cities': ['Moscow', 'Saint Petersburg']}]\n"
     ]
    }
   ],
   "source": [
    "travel_log = [\n",
    "{\n",
    "  \"country\": \"France\",\n",
    "  \"visits\": 12,\n",
    "  \"cities\": [\"Paris\", \"Lille\", \"Dijon\"]\n",
    "},\n",
    "{\n",
    "  \"country\": \"Germany\",\n",
    "  \"visits\": 5,\n",
    "  \"cities\": [\"Berlin\", \"Hamburg\", \"Stuttgart\"]\n",
    "},\n",
    "]\n",
    "\n",
    "#TODO: Write the function that will allow new countries to be added to the travel_log. \n",
    "\n",
    "def add_new_country( country, visits, cities):\n",
    "  new_entry_dict = {\n",
    "  \"country\": country,\n",
    "  \"visits\": visits,\n",
    "  \"cities\": cities\n",
    "  }\n",
    "  \n",
    "  travel_log.append(new_entry_dict)\n",
    "\n",
    "\n",
    "\n",
    "add_new_country(\"Russia\", 2, [\"Moscow\", \"Saint Petersburg\"])\n",
    "print(travel_log)"
   ]
  },
  {
   "attachments": {
    "image.png": {
     "image/png": "[encoded data removed]"
    }
   },
   "cell_type": "markdown",
   "metadata": {},
   "source": [
    "# Final Exercise - Build the Auction Program \n",
    "\n",
    "![image.png](attachment:image.png)"
   ]
  },
  {
   "cell_type": "code",
   "execution_count": 31,
   "metadata": {},
   "outputs": [
    {
     "name": "stdout",
     "output_type": "stream",
     "text": [
      "Auction Winner Michel and Auction bid 67\n"
     ]
    }
   ],
   "source": [
    "bid_entry = \"Y\"\n",
    "name_list = []\n",
    "bid_list = []\n",
    "Auction_dict = {} \n",
    "\n",
    "while(bid_entry == \"Y\"):\n",
    "    name = input(\" Your name ? :\")\n",
    "    bid = int(input(\" Your Bid Price ? :\"))\n",
    "    \n",
    "    name_list.append(name)\n",
    "    bid_list.append(bid)\n",
    "    \n",
    "    Auction_dict[name] = bid\n",
    "    \n",
    "    bid_entry = input(\"Are there other users who want to bid ? (Y/N) :\")\n",
    "    \n",
    "    if bid_entry == \"N\":\n",
    "        \n",
    "        win_bid = max(bid_list)\n",
    "        \n",
    "        for name, bid in Auction_dict.items():\n",
    "            if win_bid == bid:\n",
    "                print(f\"Auction Winner {name} and Auction bid {bid}\")\n"
   ]
  }
 ],
 "metadata": {
  "kernelspec": {
   "display_name": "Python 3",
   "language": "python",
   "name": "python3"
  },
  "language_info": {
   "codemirror_mode": {
    "name": "ipython",
    "version": 3
   },
   "file_extension": ".py",
   "mimetype": "text/x-python",
   "name": "python",
   "nbconvert_exporter": "python",
   "pygments_lexer": "ipython3",
   "version": "3.10.10"
  },
  "orig_nbformat": 4,
  "vscode": {
   "interpreter": {
    "hash": "8bf0d51478355d2251941b3b98616086516a0eddd7c72ee47a3371765770709a"
   }
  }
 },
 "nbformat": 4,
 "nbformat_minor": 2
}
