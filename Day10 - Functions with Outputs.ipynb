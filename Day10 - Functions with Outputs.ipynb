{
 "cells": [
  {
   "attachments": {},
   "cell_type": "markdown",
   "metadata": {},
   "source": [
    "# Functions with Outputs"
   ]
  },
  {
   "attachments": {},
   "cell_type": "markdown",
   "metadata": {},
   "source": [
    "Recap\n",
    "\n",
    "- Function\n",
    "\n",
    "        def my_funcions():\n",
    "            #Do this\n",
    "            #Then do this\n",
    "            #Finally do this\n",
    "\n",
    "- Function with inputs\n",
    "\n",
    "        def my_funcions(something):\n",
    "            #Do this with something\n",
    "            #Then do this\n",
    "            #Finally do this\n"
   ]
  },
  {
   "attachments": {},
   "cell_type": "markdown",
   "metadata": {},
   "source": [
    "- Functions with Outputs\n",
    "\n",
    "        def my_function():\n",
    "            result = 3 * 2\n",
    "            return result\n",
    "\n",
    "        output = my_function()"
   ]
  },
  {
   "cell_type": "code",
   "execution_count": 6,
   "metadata": {},
   "outputs": [
    {
     "name": "stdout",
     "output_type": "stream",
     "text": [
      "Thiru Thiru\n"
     ]
    }
   ],
   "source": [
    "# Capitalize first letter of each word in the input name (first name and last name) \n",
    "\n",
    "def format_name(f_name, l_name):\n",
    "    formated_f_name = f_name.title()\n",
    "    formated_l_name = l_name.title()\n",
    "\n",
    "    return f\"{formated_f_name} {formated_l_name}\"\n",
    "\n",
    "formated_string = format_name(\"thiru\", \"THIRU\")\n",
    "    \n",
    "print(formated_string)\n",
    "    \n",
    "    "
   ]
  },
  {
   "attachments": {},
   "cell_type": "markdown",
   "metadata": {},
   "source": [
    "- return keyword - more than one return statements"
   ]
  },
  {
   "cell_type": "code",
   "execution_count": 8,
   "metadata": {},
   "outputs": [
    {
     "name": "stdout",
     "output_type": "stream",
     "text": [
      "Thiru Thiru\n"
     ]
    }
   ],
   "source": [
    "def format_name(f_name, l_name):\n",
    "    \n",
    "    if f_name ==\"\" and l_name == \"\":\n",
    "        return \"You didn't provide valid input\"\n",
    "    \n",
    "    formated_f_name = f_name.title()\n",
    "    formated_l_name = l_name.title()\n",
    "\n",
    "    return f\"{formated_f_name} {formated_l_name}\"\n",
    "\n",
    "print(format_name(input(\"Provide your first name \"), input(\"Provide your last name\")))"
   ]
  },
  {
   "attachments": {},
   "cell_type": "markdown",
   "metadata": {},
   "source": [
    "--------------------------\n",
    "Exercise - Days in a month\n",
    "\n",
    "\n",
    "        You are then going to create a function called `days_in_month()` which will take a **year** and a **month** as inputs, e.g.\n",
    "\n",
    "        ```\n",
    "        days_in_month(year=2022, month=2)\n",
    "        ```\n",
    "        And it will use this information to work out the **number of days in the month**, then **return** that as the **output**, **e.g.:**\n",
    "\n",
    "        ```\n",
    "        28\n",
    "        ```\n",
    "        The List month_days contains the number of days in a month from January to December for a non-leap year. A leap year has 29 days in February.\n"
   ]
  },
  {
   "cell_type": "code",
   "execution_count": 19,
   "metadata": {},
   "outputs": [],
   "source": [
    "def days_in_month(year=2022, month =2):\n",
    "    if year % 4 == 0:\n",
    "        if year % 100 == 0:\n",
    "            if year % 400 == 0:\n",
    "                if month == 2:\n",
    "                    return 29\n",
    "                elif month in (1,3,5,7,9,10,12):\n",
    "                    return 31\n",
    "                else:\n",
    "                    return 30\n",
    "    elif month == 2:\n",
    "        return 29\n",
    "    elif month in (1,3,5,7,9,10,12):\n",
    "        return 31\n",
    "    else:\n",
    "        return 30\n"
   ]
  },
  {
   "cell_type": "code",
   "execution_count": 20,
   "metadata": {},
   "outputs": [
    {
     "name": "stdout",
     "output_type": "stream",
     "text": [
      "Month days :  29\n"
     ]
    }
   ],
   "source": [
    "print(f\"Month days :  {days_in_month(year = 2000, month =2)}\" )"
   ]
  },
  {
   "attachments": {},
   "cell_type": "markdown",
   "metadata": {},
   "source": [
    "---------------------------------"
   ]
  },
  {
   "attachments": {},
   "cell_type": "markdown",
   "metadata": {},
   "source": [
    "- Docstrings\n",
    "\n",
    "        def test_function():\n",
    "        \"\"\"this is for testing docstring\"\"\"\n"
   ]
  },
  {
   "attachments": {},
   "cell_type": "markdown",
   "metadata": {},
   "source": [
    "-----------------------------"
   ]
  },
  {
   "attachments": {},
   "cell_type": "markdown",
   "metadata": {},
   "source": [
    "# Exercise - Build a calculator"
   ]
  },
  {
   "cell_type": "code",
   "execution_count": 25,
   "metadata": {},
   "outputs": [],
   "source": [
    "# Calculator \n",
    "\n",
    "# Add\n",
    "def add(n1, n2):\n",
    "    return n1 + n2\n",
    "# Subtract \n",
    "def sub(n1, n2):\n",
    "    return n1 - n2\n",
    "# Multiply \n",
    "def mul(n1,n2):\n",
    "    return n1 * n2 \n",
    "# Divide \n",
    "def div(n1,n2):\n",
    "    return n1 / n2\n",
    "\n",
    "\n",
    "operations = {\"+\": add,\n",
    "              \"-\": sub,\n",
    "              \"*\": mul,\n",
    "              \"/\": div\n",
    "            }\n"
   ]
  },
  {
   "cell_type": "code",
   "execution_count": 27,
   "metadata": {},
   "outputs": [
    {
     "data": {
      "text/plain": [
       "3"
      ]
     },
     "execution_count": 27,
     "metadata": {},
     "output_type": "execute_result"
    }
   ],
   "source": [
    "operations[\"+\"](1,2)"
   ]
  },
  {
   "cell_type": "code",
   "execution_count": 29,
   "metadata": {},
   "outputs": [
    {
     "name": "stdout",
     "output_type": "stream",
     "text": [
      "+\n",
      "<function add at 0x00000236CC2E5480>\n",
      "-\n",
      "<function sub at 0x00000236CC2E52D0>\n",
      "*\n",
      "<function mul at 0x00000236CC2E5990>\n",
      "/\n",
      "<function div at 0x00000236CC2E5240>\n"
     ]
    }
   ],
   "source": [
    "for key, value in operations.items():\n",
    "    print(key)\n",
    "    print(value)"
   ]
  },
  {
   "cell_type": "code",
   "execution_count": 30,
   "metadata": {},
   "outputs": [
    {
     "name": "stdout",
     "output_type": "stream",
     "text": [
      "+\n",
      "-\n",
      "*\n",
      "/\n",
      "20\n"
     ]
    }
   ],
   "source": [
    "num1 = int(input(\"what's the first number ? :\"))\n",
    "num2 = int(input(\"what's the second number ? :\"))\n",
    "\n",
    "for symbol in operations:\n",
    "    print(symbol)\n",
    "\n",
    "oper = input(\" Pick an operation from the line above : \")\n",
    "\n",
    "print(operations[oper](num1,num2))\n"
   ]
  },
  {
   "attachments": {},
   "cell_type": "markdown",
   "metadata": {},
   "source": [
    "- Print vs return \n",
    "\n",
    "\n",
    "out of return can be given as an input to another function, but output of print can't be given"
   ]
  },
  {
   "attachments": {},
   "cell_type": "markdown",
   "metadata": {},
   "source": [
    "# Using while loop, Flags and Recursion"
   ]
  },
  {
   "cell_type": "code",
   "execution_count": 32,
   "metadata": {},
   "outputs": [
    {
     "data": {
      "text/plain": [
       "20"
      ]
     },
     "execution_count": 32,
     "metadata": {},
     "output_type": "execute_result"
    }
   ],
   "source": [
    "def add(n1, n2):\n",
    "  return n1 + n2\n",
    "\n",
    "def subtract(n1, n2):\n",
    "  return n1 - n2\n",
    "\n",
    "def multiply(n1, n2):\n",
    "  return n1 * n2\n",
    "\n",
    "def divide(n1, n2):\n",
    "  return n1 / n2\n",
    "\n",
    "operations = {\n",
    "  \"+\": add,\n",
    "  \"-\": subtract,\n",
    "  \"*\": multiply,\n",
    "  \"/\": divide\n",
    "}\n",
    "\n",
    "def calculator():\n",
    "\n",
    "  num1 = float(input(\"What's the first number?: \"))\n",
    "  for symbol in operations:\n",
    "    print(symbol)\n",
    "  should_continue = True\n",
    " \n",
    "  while should_continue:\n",
    "    operation_symbol = input(\"Pick an operation: \")\n",
    "    num2 = float(input(\"What's the next number?: \"))\n",
    "    calculation_function = operations[operation_symbol]\n",
    "    answer = calculation_function(num1, num2)\n",
    "    print(f\"{num1} {operation_symbol} {num2} = {answer}\")\n",
    "\n",
    "    if input(f\"Type 'y' to continue calculating with {answer}, or type 'n' to start a new calculation: \") == 'y':\n",
    "      num1 = answer\n",
    "    else:\n",
    "      should_continue = False\n",
    "      clear()\n",
    "      calculator()\n",
    "\n",
    "calculator()\n"
   ]
  }
 ],
 "metadata": {
  "kernelspec": {
   "display_name": "Python 3",
   "language": "python",
   "name": "python3"
  },
  "language_info": {
   "codemirror_mode": {
    "name": "ipython",
    "version": 3
   },
   "file_extension": ".py",
   "mimetype": "text/x-python",
   "name": "python",
   "nbconvert_exporter": "python",
   "pygments_lexer": "ipython3",
   "version": "3.10.10"
  },
  "orig_nbformat": 4,
  "vscode": {
   "interpreter": {
    "hash": "8bf0d51478355d2251941b3b98616086516a0eddd7c72ee47a3371765770709a"
   }
  }
 },
 "nbformat": 4,
 "nbformat_minor": 2
}
