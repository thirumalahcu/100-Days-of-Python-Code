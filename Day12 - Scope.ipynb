{
 "cells": [
  {
   "attachments": {},
   "cell_type": "markdown",
   "metadata": {},
   "source": [
    "# Namespaces Local vs Scope"
   ]
  },
  {
   "cell_type": "code",
   "execution_count": 3,
   "metadata": {},
   "outputs": [
    {
     "name": "stdout",
     "output_type": "stream",
     "text": [
      "enemies inside function: 2\n",
      "enemies outside function: 1\n"
     ]
    }
   ],
   "source": [
    "enemies = 1\n",
    "\n",
    "def increase_enemies():\n",
    "    enemies = 2\n",
    "    print(f\"enemies inside function: {enemies}\")\n",
    "\n",
    "increase_enemies()\n",
    "print(f\"enemies outside function: {enemies}\")"
   ]
  },
  {
   "attachments": {},
   "cell_type": "markdown",
   "metadata": {},
   "source": [
    "- Local Scope: Inside the function\n",
    "- Global Scope: outside the function \n"
   ]
  },
  {
   "attachments": {},
   "cell_type": "markdown",
   "metadata": {},
   "source": [
    "Does Python have Block Socpe ? \"NO\" "
   ]
  },
  {
   "cell_type": "code",
   "execution_count": 5,
   "metadata": {},
   "outputs": [
    {
     "name": "stdout",
     "output_type": "stream",
     "text": [
      "Skeleton\n"
     ]
    }
   ],
   "source": [
    "game_level = 3\n",
    "enemies = [\"Skeleton\", \"Zombie\", \"Alien\"]\n",
    "if game_level < 5:\n",
    "    new_enemy = enemies[0]\n",
    "\n",
    "print(new_enemy)"
   ]
  },
  {
   "cell_type": "code",
   "execution_count": 8,
   "metadata": {},
   "outputs": [
    {
     "ename": "NameError",
     "evalue": "name 'new1_enemy' is not defined",
     "output_type": "error",
     "traceback": [
      "\u001b[1;31m---------------------------------------------------------------------------\u001b[0m",
      "\u001b[1;31mNameError\u001b[0m                                 Traceback (most recent call last)",
      "Cell \u001b[1;32mIn[8], line 8\u001b[0m\n\u001b[0;32m      5\u001b[0m     \u001b[39mif\u001b[39;00m game_level \u001b[39m<\u001b[39m \u001b[39m5\u001b[39m:\n\u001b[0;32m      6\u001b[0m         new1_enemy \u001b[39m=\u001b[39m enemies[\u001b[39m0\u001b[39m]\n\u001b[1;32m----> 8\u001b[0m \u001b[39mprint\u001b[39m(new1_enemy)\n",
      "\u001b[1;31mNameError\u001b[0m: name 'new1_enemy' is not defined"
     ]
    }
   ],
   "source": [
    "game_level = 3\n",
    "\n",
    "def create_enemy():\n",
    "    enemies = [\"Skeleton\", \"Zombie\", \"Alien\"]\n",
    "    if game_level < 5:\n",
    "        new1_enemy = enemies[0]\n",
    "\n",
    "print(new1_enemy)\n"
   ]
  },
  {
   "attachments": {},
   "cell_type": "markdown",
   "metadata": {},
   "source": [
    "-- How to modify a Global Variable"
   ]
  },
  {
   "cell_type": "code",
   "execution_count": 10,
   "metadata": {},
   "outputs": [
    {
     "name": "stdout",
     "output_type": "stream",
     "text": [
      "enemies inside function: 2\n",
      "enemies outside function: 1\n"
     ]
    }
   ],
   "source": [
    "enemies = 1\n",
    "\n",
    "def increase_enemies():\n",
    "    enemies = 2   # we are not changing it, just defining in local scope\n",
    "    print(f\"enemies inside function: {enemies}\")\n",
    "\n",
    "increase_enemies()\n",
    "print(f\"enemies outside function: {enemies}\")"
   ]
  },
  {
   "cell_type": "code",
   "execution_count": 11,
   "metadata": {},
   "outputs": [
    {
     "ename": "UnboundLocalError",
     "evalue": "local variable 'enemies' referenced before assignment",
     "output_type": "error",
     "traceback": [
      "\u001b[1;31m---------------------------------------------------------------------------\u001b[0m",
      "\u001b[1;31mUnboundLocalError\u001b[0m                         Traceback (most recent call last)",
      "Cell \u001b[1;32mIn[11], line 7\u001b[0m\n\u001b[0;32m      4\u001b[0m     enemies \u001b[39m+\u001b[39m\u001b[39m=\u001b[39m \u001b[39m1\u001b[39m   \n\u001b[0;32m      5\u001b[0m     \u001b[39mprint\u001b[39m(\u001b[39mf\u001b[39m\u001b[39m\"\u001b[39m\u001b[39menemies inside function: \u001b[39m\u001b[39m{\u001b[39;00menemies\u001b[39m}\u001b[39;00m\u001b[39m\"\u001b[39m)\n\u001b[1;32m----> 7\u001b[0m increase_enemies()\n\u001b[0;32m      8\u001b[0m \u001b[39mprint\u001b[39m(\u001b[39mf\u001b[39m\u001b[39m\"\u001b[39m\u001b[39menemies outside function: \u001b[39m\u001b[39m{\u001b[39;00menemies\u001b[39m}\u001b[39;00m\u001b[39m\"\u001b[39m)\n",
      "Cell \u001b[1;32mIn[11], line 4\u001b[0m, in \u001b[0;36mincrease_enemies\u001b[1;34m()\u001b[0m\n\u001b[0;32m      3\u001b[0m \u001b[39mdef\u001b[39;00m \u001b[39mincrease_enemies\u001b[39m():\n\u001b[1;32m----> 4\u001b[0m     enemies \u001b[39m+\u001b[39m\u001b[39m=\u001b[39m \u001b[39m1\u001b[39m   \n\u001b[0;32m      5\u001b[0m     \u001b[39mprint\u001b[39m(\u001b[39mf\u001b[39m\u001b[39m\"\u001b[39m\u001b[39menemies inside function: \u001b[39m\u001b[39m{\u001b[39;00menemies\u001b[39m}\u001b[39;00m\u001b[39m\"\u001b[39m)\n",
      "\u001b[1;31mUnboundLocalError\u001b[0m: local variable 'enemies' referenced before assignment"
     ]
    }
   ],
   "source": [
    "enemies = 1\n",
    "\n",
    "def increase_enemies():\n",
    "    enemies += 1   \n",
    "    print(f\"enemies inside function: {enemies}\")\n",
    "\n",
    "increase_enemies()\n",
    "print(f\"enemies outside function: {enemies}\")"
   ]
  },
  {
   "cell_type": "code",
   "execution_count": 12,
   "metadata": {},
   "outputs": [
    {
     "name": "stdout",
     "output_type": "stream",
     "text": [
      "enemies inside function: 3\n",
      "enemies outside function: 3\n"
     ]
    }
   ],
   "source": [
    "# Modifying the global variable\n",
    "\n",
    "enemies = 1\n",
    "\n",
    "def increase_enemies():\n",
    "    global enemies\n",
    "    enemies += 2   \n",
    "    print(f\"enemies inside function: {enemies}\")\n",
    "\n",
    "increase_enemies()\n",
    "print(f\"enemies outside function: {enemies}\")"
   ]
  },
  {
   "cell_type": "code",
   "execution_count": 14,
   "metadata": {},
   "outputs": [
    {
     "name": "stdout",
     "output_type": "stream",
     "text": [
      "enemies inside function: 2\n",
      "enemies outside function: 1\n"
     ]
    }
   ],
   "source": [
    "# Without Modifying the global variable\n",
    "\n",
    "enemies = 1\n",
    "\n",
    "def increase_enemies():\n",
    "    return enemies + 1\n",
    "\n",
    "test = increase_enemies()\n",
    "print(f\"enemies inside function: {test}\")\n",
    "\n",
    "print(f\"enemies outside function: {enemies}\")"
   ]
  },
  {
   "attachments": {},
   "cell_type": "markdown",
   "metadata": {},
   "source": [
    "        Python constants and Global Scope"
   ]
  },
  {
   "cell_type": "code",
   "execution_count": 15,
   "metadata": {},
   "outputs": [],
   "source": [
    "#Global Constants - example: pi = 3.14159\n",
    "\n",
    "# Name in captital letters \n",
    "\n",
    "PI = 3.14159\n",
    "URL = \"https://www.google.com\"\n",
    "TWITTER_HANDLE = \"@test\"\n",
    "\n",
    "\n"
   ]
  }
 ],
 "metadata": {
  "kernelspec": {
   "display_name": "Python 3",
   "language": "python",
   "name": "python3"
  },
  "language_info": {
   "codemirror_mode": {
    "name": "ipython",
    "version": 3
   },
   "file_extension": ".py",
   "mimetype": "text/x-python",
   "name": "python",
   "nbconvert_exporter": "python",
   "pygments_lexer": "ipython3",
   "version": "3.10.11"
  },
  "orig_nbformat": 4,
  "vscode": {
   "interpreter": {
    "hash": "8bf0d51478355d2251941b3b98616086516a0eddd7c72ee47a3371765770709a"
   }
  }
 },
 "nbformat": 4,
 "nbformat_minor": 2
}
