{
 "cells": [
  {
   "attachments": {},
   "cell_type": "markdown",
   "metadata": {},
   "source": [
    "# Conditional Statements, Logical Operations, Code Blocks and Scope"
   ]
  },
  {
   "attachments": {},
   "cell_type": "markdown",
   "metadata": {},
   "source": [
    "Control flow with if else and Conditional Operators\n",
    "\n",
    "    if condition:\n",
    "        do this\n",
    "    else:\n",
    "        do this"
   ]
  },
  {
   "cell_type": "code",
   "execution_count": 1,
   "metadata": {},
   "outputs": [
    {
     "name": "stdout",
     "output_type": "stream",
     "text": [
      "Can ride\n"
     ]
    }
   ],
   "source": [
    "height = int(input(\"Provide the child's height in cm\"))\n",
    "\n",
    "if height > 120:\n",
    "    print(\"Can ride\")\n",
    "else:\n",
    "    print(\"Can't ride\")"
   ]
  },
  {
   "attachments": {},
   "cell_type": "markdown",
   "metadata": {},
   "source": [
    "Nested if statements and elif statements \n",
    "\n",
    "    if condition:\n",
    "        if another condition:\n",
    "            do this \n",
    "        else:\n",
    "            do this\n",
    "    else:\n",
    "        do this\n"
   ]
  },
  {
   "cell_type": "code",
   "execution_count": 3,
   "metadata": {},
   "outputs": [
    {
     "name": "stdout",
     "output_type": "stream",
     "text": [
      "You can ride the rollercoaster!\n",
      "Please pay $7.\n"
     ]
    }
   ],
   "source": [
    "height = int(input(\"Provide the child's height in cm\"))\n",
    "\n",
    "if height > 120:\n",
    "    print(\"You can ride the rollercoaster!\")\n",
    "    age = int(input(\"what is your age? \"))\n",
    "    if age < 12:\n",
    "        print(\"please pay $5.\")\n",
    "    elif age <=18:\n",
    "        print(\"Please pay $7.\")\n",
    "    else:\n",
    "        print(\"Please pay $12.\")\n",
    "else:\n",
    "    print(\"Sorry, you have to grow taller before you can ride.\")"
   ]
  },
  {
   "attachments": {},
   "cell_type": "markdown",
   "metadata": {},
   "source": [
    "Write a program that works out whether if a given year is a lead year or not.\n",
    "\n",
    "A normal year has 365 days and leap years have 266.\n",
    "\n",
    "\n",
    "        Clue: \n",
    "              On every year that is evenly divisible by 4\n",
    "                except every year that is evenly divisible by 100\n",
    "                  unless the year is also evenly divisible by 400"
   ]
  },
  {
   "cell_type": "code",
   "execution_count": 12,
   "metadata": {},
   "outputs": [
    {
     "name": "stdout",
     "output_type": "stream",
     "text": [
      "Leap year.\n"
     ]
    }
   ],
   "source": [
    "# % modulo operator returns the remainder of dividing two numbers\n",
    "\n",
    "year = int(input(\"which year do you want to check ?\"))\n",
    "\n",
    "if year%4 == 0:\n",
    "    if year%100 == 0:\n",
    "        if year%400 == 0:\n",
    "            print(\"It is a leap year\")\n",
    "        else:\n",
    "            print(\"It is not a leap year\")\n",
    "    else:\n",
    "        print (\"Leap year.\")\n",
    "else:\n",
    "    print(\"Not leap year.\")\n"
   ]
  },
  {
   "attachments": {},
   "cell_type": "markdown",
   "metadata": {},
   "source": [
    "Multiple If statements in Succession\n",
    "\n",
    "if/ elif / else\n",
    "\n",
    "        if condition1:\n",
    "            do A\n",
    "        elif condition2:\n",
    "            do B\n",
    "        else:\n",
    "            do C\n",
    "\n",
    "Multiple if\n",
    "\n",
    "        if condition1:\n",
    "            do A\n",
    "        if condition2:\n",
    "            do B\n",
    "        if condition3:\n",
    "            do C\n",
    "\n"
   ]
  },
  {
   "attachments": {},
   "cell_type": "markdown",
   "metadata": {},
   "source": [
    "Logical Operators\n",
    "\n",
    "    if condition1 & condition2 & condition3:\n",
    "        do A\n",
    "    else:\n",
    "        do B\n",
    "\n",
    "\n",
    "    A and B\n",
    "    C or D\n",
    "    not E"
   ]
  },
  {
   "attachments": {},
   "cell_type": "markdown",
   "metadata": {},
   "source": [
    "Build a LOVE calculator based on BuzzFeed article \n",
    "\n",
    "- Take two names and calculate - TRUE and LOVE letters  \n",
    "\n",
    "- The Love percentage = (Total letters count of True) and (Total letters count of Love)"
   ]
  },
  {
   "cell_type": "code",
   "execution_count": 13,
   "metadata": {},
   "outputs": [
    {
     "data": {
      "text/plain": [
       "2"
      ]
     },
     "execution_count": 13,
     "metadata": {},
     "output_type": "execute_result"
    }
   ],
   "source": [
    "\"test\".count(\"t\")"
   ]
  },
  {
   "cell_type": "code",
   "execution_count": 16,
   "metadata": {},
   "outputs": [
    {
     "name": "stdout",
     "output_type": "stream",
     "text": [
      "the love % :12\n"
     ]
    }
   ],
   "source": [
    "name1 = input(\"input the first name\").lower()\n",
    "name2 = input(\"input the second name\").lower()\n",
    "\n",
    "\n",
    "True_cnt = name1.count(\"t\") + name1.count(\"r\") + name1.count(\"u\") + name1.count(\"e\")\n",
    "Love_cnt = name2.count(\"l\") + name2.count(\"o\") + name2.count(\"v\") + name2.count(\"e\")\n",
    "\n",
    "print(f\"the love % :\" + str(True_cnt) +  str(Love_cnt))"
   ]
  }
 ],
 "metadata": {
  "kernelspec": {
   "display_name": "Python 3",
   "language": "python",
   "name": "python3"
  },
  "language_info": {
   "codemirror_mode": {
    "name": "ipython",
    "version": 3
   },
   "file_extension": ".py",
   "mimetype": "text/x-python",
   "name": "python",
   "nbconvert_exporter": "python",
   "pygments_lexer": "ipython3",
   "version": "3.10.10"
  },
  "orig_nbformat": 4,
  "vscode": {
   "interpreter": {
    "hash": "8bf0d51478355d2251941b3b98616086516a0eddd7c72ee47a3371765770709a"
   }
  }
 },
 "nbformat": 4,
 "nbformat_minor": 2
}
